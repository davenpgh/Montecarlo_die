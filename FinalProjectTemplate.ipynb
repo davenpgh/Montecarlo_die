{
 "cells": [
  {
   "cell_type": "markdown",
   "metadata": {},
   "source": [
    "# Final Project Report\n",
    "\n",
    "* Class: DS 5100\n",
    "* Student Name: Grace Davenport\n",
    "* Student Net ID: mha4rh\n",
    "* This URL: a URL to the notebook source of this document"
   ]
  },
  {
   "cell_type": "markdown",
   "metadata": {},
   "source": [
    "# Instructions\n",
    "\n",
    "Follow the instructions in the [Final Project](https://ontoligent.github.io/DS5100-2023-07-R/notebooks/M00_FinalProject/FinalProjectInstructions.html) isntructions and put your work in this notebook.\n",
    "\n",
    "Total points for each subsection under **Deliverables** and **Scenarios** are given in parentheses.\n",
    "\n",
    "Breakdowns of points within subsections are specified within subsection instructions as bulleted lists.\n",
    "\n",
    "This project is worth **50 points**."
   ]
  },
  {
   "cell_type": "markdown",
   "metadata": {},
   "source": [
    "# Deliverables"
   ]
  },
  {
   "cell_type": "markdown",
   "metadata": {},
   "source": [
    "## The Monte Carlo Module (10)\n",
    "\n",
    "- URL included, appropriately named (1).\n",
    "- Includes all three specified classes (3).\n",
    "- Includes at least all 12 specified methods (6; .5 each)."
   ]
  },
  {
   "cell_type": "markdown",
   "metadata": {},
   "source": [
    "Put the URL to your GitHub repo here.\n",
    "\n",
    "Repo URL: https://github.com/davenpgh/davenpgh_ds5100_montecarlo"
   ]
  },
  {
   "cell_type": "markdown",
   "metadata": {},
   "source": [
    "Paste a copyy of your module here.\n",
    "\n",
    "NOTE: Paste as text, not as code. Use triple backticks to wrap your code blocks."
   ]
  },
  {
   "cell_type": "markdown",
   "metadata": {},
   "source": [
    "```\n",
    "import pandas as pd\n",
    "import numpy as np\n",
    "\n",
    "class die:\n",
    "    '''\n",
    "    Come roll a die! *fun guarenteed*\n",
    "    Customizable die with faces and weights; can be rolled one or more times to select a face.\n",
    "    '''\n",
    "    \n",
    "    def __init__(self, faces):\n",
    "        '''\n",
    "        Create your die!\n",
    "        \n",
    "        Input: faces (all letters or all numbers)\n",
    "        Faces must be distinct and placed in a numpy array.\n",
    "        Default weight = 1.0 for each face (fair die)\n",
    "        '''\n",
    "        self.faces = faces\n",
    "        self.__df = pd.DataFrame({'faces':faces,\n",
    "                     'weights':[1.0 for f in faces]}).set_index('faces')\n",
    "        \n",
    "        #are faces in an array?\n",
    "        if not isinstance(faces, np.ndarray):\n",
    "            raise TypeError(\"Faces not an array\")\n",
    "        \n",
    "        #are faces distinct?\n",
    "        if len(np.unique(faces)) != len(faces):\n",
    "            raise ValueError(\"Values not distinct\")\n",
    "            \n",
    "    def change_weight(self, face_val, new_weight):\n",
    "        '''\n",
    "        Want to create an unfair die?\n",
    "        \n",
    "        Input: face you want to change\n",
    "        Input: corresponding new weight\n",
    "        \n",
    "        Face must appear in previous numpy array. \n",
    "        Weight must be numeric (int or float) or castable to numeric. \n",
    "        '''\n",
    "        self.face_val = face_val\n",
    "        self.new_weight = new_weight\n",
    "        \n",
    "        #is face on die?\n",
    "        if face_val not in self.__df.index:\n",
    "            raise IndexError(\"Face not on die\")\n",
    "        \n",
    "        self.__df.loc[face_val] = new_weight\n",
    "      \n",
    "        #is weight numeric?\n",
    "        if not isinstance(new_weight, (int,float)):\n",
    "            raise TypeError(\"Weight not numeric\")\n",
    "        \n",
    "        #can weight be cast to int?\n",
    "        try:\n",
    "            new_weight = int(new_weight)\n",
    "        except:\n",
    "            raise TypeError(\"Weight not numeric\")\n",
    "\n",
    "        #can weight be cast to float?\n",
    "        try:\n",
    "            new_weight = float(new_weight)\n",
    "        except:\n",
    "            raise TypeError(\"Weight not numeric\")\n",
    "            \n",
    "    def roll_die(self, n_roll = 1):\n",
    "        '''\n",
    "        Roll your die!\n",
    "        \n",
    "        Input: number of rolls (integer). Default = 1 roll\n",
    "        Return: list of faces rolled\n",
    "        '''\n",
    "        return self.__df.sample(n_roll, weights=self.__df.weights, replace=True).index.to_list()\n",
    "        \n",
    "    def current_state(self):\n",
    "        '''\n",
    "        What does my die look like?\n",
    "        \n",
    "        Input: none\n",
    "        Return: dataframe with faces (index) and their corresponding weights\n",
    "        '''\n",
    "        return self.__df.copy()\n",
    "    \n",
    "\n",
    "class game:\n",
    "    '''\n",
    "    This game allows a used to roll one or more similar die, one or more times.\n",
    "    Each die must have the same number of faces, but can be weighted differently.\n",
    "    '''\n",
    "    \n",
    "    def __init__(self, dice):\n",
    "        '''\n",
    "        Place one or more die into the game.\n",
    "        \n",
    "        Input: list of pre-instantiated dice\n",
    "        '''\n",
    "        self.dice = dice\n",
    "        \n",
    "    def play(self, n_roll):\n",
    "        '''\n",
    "        Roll your dice!\n",
    "        \n",
    "        Input: number of rolls (integer)\n",
    "        '''\n",
    "        self.n_roll = n_roll\n",
    "        self.__df = pd.DataFrame({'Roll_number': range(n_roll)}).set_index(\"Roll_number\")\n",
    "        \n",
    "        for die in self.dice:\n",
    "            new_roll = pd.DataFrame({die: die.roll_die(n_roll)})\n",
    "            self.__df = pd.concat([self.__df, new_roll], axis = 1, ignore_index = True)\n",
    "            \n",
    "        self.__df = self.__df.rename_axis(index= \"Roll Number\", columns = 'Die Number')\n",
    "        \n",
    "    def results(self, style = 'wide'):\n",
    "        '''\n",
    "        See your results!\n",
    "        \n",
    "        Input: style of dataframe containing dice results. Either 'wide' or 'narrow'. \n",
    "        Default = 'wide'\n",
    "        Return: narrow dataframe with dice results. Multiindex of roll number \n",
    "        and die number with corresponding column of face results. \n",
    "        '''\n",
    "        self.style = style\n",
    "        if style == 'narrow':\n",
    "            return self.__df.copy()\n",
    "        elif style == 'wide':\n",
    "            return self.__df.copy().stack().reset_index().set_index([\"Roll Number\", \"Die Number\"]).rename({0:'Face Rolled'}, axis=1)\n",
    "        else:\n",
    "            raise ValueError (\"Try 'wide' or 'narrow'\") \n",
    "\n",
    "\n",
    "class analyzer:\n",
    "    '''\n",
    "    Analyze game results! caution: fun may occur\n",
    "    Input your results of a single game and compute descriptive statistics.\n",
    "    '''\n",
    "    def __init__(self, game):\n",
    "        '''\n",
    "        Place game into analyzer.\n",
    "        \n",
    "        Input: game object. Game must be of game class\n",
    "        '''\n",
    "        self.game = game\n",
    "        if game.__class__.__name__ != 'game':\n",
    "            raise ValueError(\"Object must be of game class\")\n",
    "            \n",
    "    def jackpot(self):\n",
    "        '''\n",
    "        Compute jackpot (when all die roll same face)\n",
    "        \n",
    "        Input: none\n",
    "        Return: number of jackpots (integer)\n",
    "        '''\n",
    "        df = self.game.results().unstack()\n",
    "        results = sum(df.eq(df.iloc[:, 0], axis=0).all(1))\n",
    "        return results\n",
    "    \n",
    "    def face_count(self):\n",
    "        '''\n",
    "        Compute the number of times a given face is rolled in each event.        \n",
    "        \n",
    "        Input: none\n",
    "        Return: dataframe with roll number as index and face rolled as columns.\n",
    "        Count values in cells. Fill value = 0.\n",
    "        '''\n",
    "        df = self.game.results()\n",
    "        result_df = df.pivot_table(index='Roll Number', columns='Face Rolled', aggfunc='size', fill_value=0)\n",
    "        result_df = result_df.reindex(columns=self.game.dice[0].faces, fill_value=0)\n",
    "        return result_df\n",
    "    \n",
    "    def combo_count(self):\n",
    "        '''\n",
    "        Computes the distinct combinations of faces rolled, along with their counts.\n",
    "        Combinations are order-independent and may contain repetitions.\n",
    "\n",
    "        Input: none\n",
    "        Return: dataframe with multindex of distinct combinations and corresponding count column.\n",
    "        '''\n",
    "        df = df = self.game.results().unstack()\n",
    "        results = pd.DataFrame(np.sort(df.values, axis=1), columns=df.columns).value_counts()\n",
    "        return pd.DataFrame(results)\n",
    "\n",
    "    def perm_count(self):\n",
    "        '''\n",
    "        Computes the distinct permutations of faces rolled, along with their counts.\n",
    "        Combinations are order-dependent and may contain repetitions.\n",
    "\n",
    "        Input: none\n",
    "        Return: dataframe with multindex of distinct permutations and corresponding count column.\n",
    "        '''\n",
    "        df = self.game.results().unstack()\n",
    "        #I think this should work...\n",
    "        cols = [('Face Rolled', self.game.dice.index(die)) for die in self.game.dice]\n",
    "        results = df.groupby(cols).size()\n",
    "        return pd.DataFrame(results).rename({0:'count'},axis=1)\n",
    "```"
   ]
  },
  {
   "cell_type": "markdown",
   "metadata": {},
   "source": [
    "## Unitest Module (2)\n",
    "\n",
    "Paste a copy of your test module below.\n",
    "\n",
    "NOTE: Paste as text, not as code. Use triple backticks to wrap your code blocks.\n",
    "\n",
    "- All methods have at least one test method (1).\n",
    "- Each method employs one of Unittest's Assert methods (1)."
   ]
  },
  {
   "cell_type": "markdown",
   "metadata": {},
   "source": [
    "```\n",
    "from combined import die, game, analyzer\n",
    "import unittest\n",
    "import pandas as pd\n",
    "import numpy as np\n",
    "\n",
    "class combinedTestSuite(unittest.TestCase):\n",
    "    \n",
    "    def test_1_die(self):\n",
    "        die1 = die(np.array([1,2,3,4,5,6]))\n",
    "        message = \"die is not array\"\n",
    "        self.assertTrue(isinstance(die1.faces, np.ndarray), message)\n",
    "        \n",
    "    def test_2_die(self):\n",
    "        die1 = die(np.array([1,2,3,4,5,6]))\n",
    "        die1.change_weight(1,10)\n",
    "        message = \"weight is not numeric\"\n",
    "        self.assertTrue(isinstance(die1.new_weight, (int,float)), message)\n",
    "        \n",
    "    def test_3_die(self):\n",
    "        die1 = die(np.array([1,2,3,4,5,6]))\n",
    "        message = \"return is not a list\"\n",
    "        self.assertTrue(isinstance(die1.roll_die(), list), message)\n",
    "        \n",
    "    def test_4_die(self):\n",
    "        die1 = die(np.array([1,2,3,4,5,6]))\n",
    "        message = \"return is not a dataframe\"\n",
    "        self.assertTrue(isinstance(die1.current_state(), pd.DataFrame), message)\n",
    "\n",
    "    def test_1_game(self):\n",
    "        die1 = die(np.array([1,2,3,4,5,6]))\n",
    "        die2 = die(np.array([1,2,3,4,5,6]))\n",
    "        die2.change_weight(1,10)\n",
    "        game1 = game([die1,die2])\n",
    "        message = \"Dice are not in list form\"\n",
    "        self.assertTrue(isinstance(game1.dice, list), message)\n",
    "        \n",
    "    def test_2_game(self):\n",
    "        die1 = die(np.array([1,2,3,4,5,6]))\n",
    "        die2 = die(np.array([1,2,3,4,5,6]))\n",
    "        die2.change_weight(1,10)\n",
    "        game1 = game([die1,die2])\n",
    "        game1.play(5)\n",
    "        expected = 5\n",
    "        self.assertEqual(game1.n_roll, expected)\n",
    "        \n",
    "    def test_3_game(self):\n",
    "        die1 = die(np.array([1,2,3,4,5,6]))\n",
    "        die2 = die(np.array([1,2,3,4,5,6]))\n",
    "        die2.change_weight(1,10)\n",
    "        game1 = game([die1,die2])\n",
    "        game1.play(5)\n",
    "        game1.results('wide')\n",
    "        expected = 'wide'\n",
    "        self.assertEqual(game1.style, expected)\n",
    "\n",
    "    def test_1_analyzer(self):\n",
    "        die1 = die(np.array([1,2,3,4,5,6]))\n",
    "        die2 = die(np.array([1,2,3,4,5,6]))\n",
    "        die2.change_weight(1,10)\n",
    "        game1 = game([die1,die2])\n",
    "        game1.play(5)\n",
    "        \n",
    "        analyzer1 = analyzer(game1)\n",
    "        message = \"game is not of game class\"\n",
    "        self.assertTrue(game1.__class__.__name__ == 'game', message)\n",
    "        \n",
    "    def test_2_analyzer(self):\n",
    "        die1 = die(np.array([1,2,3,4,5,6]))\n",
    "        die2 = die(np.array([1,2,3,4,5,6]))\n",
    "        die2.change_weight(1,10)\n",
    "        game1 = game([die1,die2])\n",
    "        game1.play(5)\n",
    "        \n",
    "        analyzer1 = analyzer(game1)\n",
    "        message = \"output is not an integer\"\n",
    "        self.assertTrue(isinstance(analyzer1.jackpot(), int), message)\n",
    "        \n",
    "    def test_3_analyzer(self):\n",
    "        die1 = die(np.array([1,2,3,4,5,6]))\n",
    "        die2 = die(np.array([1,2,3,4,5,6]))\n",
    "        die2.change_weight(1,10)\n",
    "        game1 = game([die1,die2])\n",
    "        game1.play(5)\n",
    "        \n",
    "        analyzer1 = analyzer(game1)\n",
    "        message = \"return is not a dataframe\"\n",
    "        self.assertTrue(isinstance(analyzer1.face_count(), pd.DataFrame), message)\n",
    "        \n",
    "    def test_4_analyzer(self):\n",
    "        die1 = die(np.array([1,2,3,4,5,6]))\n",
    "        die2 = die(np.array([1,2,3,4,5,6]))\n",
    "        die2.change_weight(1,10)\n",
    "        game1 = game([die1,die2])\n",
    "        game1.play(5)\n",
    "        \n",
    "        analyzer1 = analyzer(game1)\n",
    "        message = \"return is not a dataframe\"\n",
    "        self.assertTrue(isinstance(analyzer1.combo_count(), pd.DataFrame), message)\n",
    "    \n",
    "    def test_5_analyzer(self):\n",
    "        die1 = die(np.array([1,2,3,4,5,6]))\n",
    "        die2 = die(np.array([1,2,3,4,5,6]))\n",
    "        die2.change_weight(1,10)\n",
    "        game1 = game([die1,die2])\n",
    "        game1.play(5)\n",
    "        \n",
    "        analyzer1 = analyzer(game1)\n",
    "        message = \"return is not a dataframe\"\n",
    "        self.assertTrue(isinstance(analyzer1.perm_count(), pd.DataFrame), message)\n",
    "\n",
    "if __name__ == '__main__':\n",
    "    unittest.main(verbosity=2)\n",
    "```"
   ]
  },
  {
   "cell_type": "markdown",
   "metadata": {
    "tags": []
   },
   "source": [
    "## Unittest Results (3)\n",
    "\n",
    "Put a copy of the results of running your tests from the command line here.\n",
    "\n",
    "Again, paste as text using triple backticks.\n",
    "\n",
    "- All 12 specified methods return OK (3; .25 each)."
   ]
  },
  {
   "cell_type": "markdown",
   "metadata": {
    "tags": []
   },
   "source": [
    "```\n",
    "!python combined_test.py\n",
    "\n",
    "test_1_analyzer (__main__.combinedTestSuite) ... ok\n",
    "test_1_die (__main__.combinedTestSuite) ... ok\n",
    "test_1_game (__main__.combinedTestSuite) ... ok\n",
    "test_2_analyzer (__main__.combinedTestSuite) ... ok\n",
    "test_2_die (__main__.combinedTestSuite) ... ok\n",
    "test_2_game (__main__.combinedTestSuite) ... ok\n",
    "test_3_analyzer (__main__.combinedTestSuite) ... ok\n",
    "test_3_die (__main__.combinedTestSuite) ... ok\n",
    "test_3_game (__main__.combinedTestSuite) ... ok\n",
    "test_4_analyzer (__main__.combinedTestSuite) ... ok\n",
    "test_4_die (__main__.combinedTestSuite) ... ok\n",
    "test_5_analyzer (__main__.combinedTestSuite) ... ok\n",
    "\n",
    "----------------------------------------------------------------------\n",
    "Ran 12 tests in 0.086s\n",
    "\n",
    "OK\n",
    "```"
   ]
  },
  {
   "cell_type": "markdown",
   "metadata": {},
   "source": [
    "## Import (1)\n",
    "\n",
    "Import your module here. This import should refer to the code in your package directory.\n",
    "\n",
    "- Module successuflly imported (1)."
   ]
  },
  {
   "cell_type": "code",
   "execution_count": 1,
   "metadata": {},
   "outputs": [],
   "source": [
    "from davenpgh_ds5100_montecarlo.Package import montecarlo"
   ]
  },
  {
   "cell_type": "code",
   "execution_count": 2,
   "metadata": {},
   "outputs": [],
   "source": [
    "from davenpgh_ds5100_montecarlo import Package"
   ]
  },
  {
   "cell_type": "markdown",
   "metadata": {},
   "source": [
    "## Help Docs (4)\n",
    "\n",
    "Show your docstring documentation by applying `help()` to your imported module.\n",
    "\n",
    "- All methods have a docstring (3; .25 each).\n",
    "- All classes have a docstring (1; .33 each)."
   ]
  },
  {
   "cell_type": "code",
   "execution_count": 3,
   "metadata": {},
   "outputs": [
    {
     "name": "stdout",
     "output_type": "stream",
     "text": [
      "Help on module davenpgh_ds5100_montecarlo.Package.montecarlo in davenpgh_ds5100_montecarlo.Package:\n",
      "\n",
      "NAME\n",
      "    davenpgh_ds5100_montecarlo.Package.montecarlo\n",
      "\n",
      "CLASSES\n",
      "    builtins.object\n",
      "        analyzer\n",
      "        die\n",
      "        game\n",
      "    \n",
      "    class analyzer(builtins.object)\n",
      "     |  analyzer(game)\n",
      "     |  \n",
      "     |  Analyze game results! caution: fun may occur\n",
      "     |  Input your results of a single game and compute descriptive statistics.\n",
      "     |  \n",
      "     |  Methods defined here:\n",
      "     |  \n",
      "     |  __init__(self, game)\n",
      "     |      Place game into analyzer.\n",
      "     |      \n",
      "     |      Input: game object. Game must be of game class\n",
      "     |  \n",
      "     |  combo_count(self)\n",
      "     |      Computes the distinct combinations of faces rolled, along with their counts.\n",
      "     |      Combinations are order-independent and may contain repetitions.\n",
      "     |      \n",
      "     |      Input: none\n",
      "     |      Return: dataframe with multindex of distinct combinations and corresponding count column.\n",
      "     |  \n",
      "     |  face_count(self)\n",
      "     |      Compute the number of times a given face is rolled in each event.        \n",
      "     |      \n",
      "     |      Input: none\n",
      "     |      Return: dataframe with roll number as index and face rolled as columns.\n",
      "     |      Count values in cells. Fill value = 0.\n",
      "     |  \n",
      "     |  jackpot(self)\n",
      "     |      Compute jackpot (when all die roll same face)\n",
      "     |      \n",
      "     |      Input: none\n",
      "     |      Return: number of jackpots (integer)\n",
      "     |  \n",
      "     |  perm_count(self)\n",
      "     |      Computes the distinct permutations of faces rolled, along with their counts.\n",
      "     |      Combinations are order-dependent and may contain repetitions.\n",
      "     |      \n",
      "     |      Input: none\n",
      "     |      Return: dataframe with multindex of distinct permutations and corresponding count column.\n",
      "     |  \n",
      "     |  ----------------------------------------------------------------------\n",
      "     |  Data descriptors defined here:\n",
      "     |  \n",
      "     |  __dict__\n",
      "     |      dictionary for instance variables (if defined)\n",
      "     |  \n",
      "     |  __weakref__\n",
      "     |      list of weak references to the object (if defined)\n",
      "    \n",
      "    class die(builtins.object)\n",
      "     |  die(faces)\n",
      "     |  \n",
      "     |  Come roll a die! *fun guarenteed*\n",
      "     |  Customizable die with faces and weights; can be rolled one or more times to select a face.\n",
      "     |  \n",
      "     |  Methods defined here:\n",
      "     |  \n",
      "     |  __init__(self, faces)\n",
      "     |      Create your die!\n",
      "     |      \n",
      "     |      Input: faces (all letters or all numbers; categorical or numeric)\n",
      "     |      Faces must be distinct and placed in a numpy array.\n",
      "     |      Default weight = 1.0 for each face (fair die)\n",
      "     |  \n",
      "     |  change_weight(self, face_val, new_weight)\n",
      "     |      Want to create an unfair die?\n",
      "     |      \n",
      "     |      Input: face you want to change\n",
      "     |      Input: corresponding new weight\n",
      "     |      \n",
      "     |      Face must appear in previous numpy array. \n",
      "     |      Weight must be numeric (int or float) or castable to numeric.\n",
      "     |  \n",
      "     |  current_state(self)\n",
      "     |      What does my die look like?\n",
      "     |      \n",
      "     |      Input: none\n",
      "     |      Return: dataframe with faces (index) and their corresponding weights\n",
      "     |  \n",
      "     |  roll_die(self, n_roll=1)\n",
      "     |      Roll your die!\n",
      "     |      \n",
      "     |      Input: number of rolls (integer). Default = 1 roll\n",
      "     |      Return: list of faces rolled\n",
      "     |  \n",
      "     |  ----------------------------------------------------------------------\n",
      "     |  Data descriptors defined here:\n",
      "     |  \n",
      "     |  __dict__\n",
      "     |      dictionary for instance variables (if defined)\n",
      "     |  \n",
      "     |  __weakref__\n",
      "     |      list of weak references to the object (if defined)\n",
      "    \n",
      "    class game(builtins.object)\n",
      "     |  game(dice)\n",
      "     |  \n",
      "     |  This game allows a used to roll one or more similar die, one or more times.\n",
      "     |  Each die must have the same number of faces, but can be weighted differently.\n",
      "     |  \n",
      "     |  Methods defined here:\n",
      "     |  \n",
      "     |  __init__(self, dice)\n",
      "     |      Place one or more die into the game.\n",
      "     |      \n",
      "     |      Input: list of pre-instantiated dice\n",
      "     |  \n",
      "     |  play(self, n_roll)\n",
      "     |      Roll your dice!\n",
      "     |      \n",
      "     |      Input: number of rolls (integer)\n",
      "     |  \n",
      "     |  results(self, style='wide')\n",
      "     |      See your results!\n",
      "     |      \n",
      "     |      Input: style of dataframe containing dice results. Either 'wide' or 'narrow'. \n",
      "     |      Default = 'wide'\n",
      "     |      Return: narrow dataframe with dice results. Multiindex of roll number \n",
      "     |      and die number with corresponding column of face results.\n",
      "     |  \n",
      "     |  ----------------------------------------------------------------------\n",
      "     |  Data descriptors defined here:\n",
      "     |  \n",
      "     |  __dict__\n",
      "     |      dictionary for instance variables (if defined)\n",
      "     |  \n",
      "     |  __weakref__\n",
      "     |      list of weak references to the object (if defined)\n",
      "\n",
      "FILE\n",
      "    /sfs/qumulo/qhome/mha4rh/Documents/MSDS/DS5100/davenpgh_ds5100_montecarlo/Package/montecarlo.py\n",
      "\n",
      "\n"
     ]
    }
   ],
   "source": [
    "help(montecarlo)"
   ]
  },
  {
   "cell_type": "markdown",
   "metadata": {},
   "source": [
    "## `README.md` File (3)\n",
    "\n",
    "Provide link to the README.md file of your project's repo.\n",
    "\n",
    "- Metadata section or info present (1).\n",
    "- Synopsis section showing how each class is called (1). (All must be included.)\n",
    "- API section listing all classes and methods (1). (All must be included.)"
   ]
  },
  {
   "cell_type": "markdown",
   "metadata": {},
   "source": [
    "URL: "
   ]
  },
  {
   "cell_type": "markdown",
   "metadata": {},
   "source": [
    "## Successful installation (2)\n",
    "\n",
    "Put a screenshot or paste a copy of a terminal session where you successfully install your module with pip.\n",
    "\n",
    "If pasting text, use a preformatted text block to show the results.\n",
    "\n",
    "- Installed with `pip` (1).\n",
    "- Successfully installed message appears (1)."
   ]
  },
  {
   "cell_type": "raw",
   "metadata": {},
   "source": [
    "pip install -e .\n",
    "Defaulting to user installation because normal site-packages is not writeable\n",
    "Obtaining file:///sfs/qumulo/qhome/mha4rh/Documents/MSDS/DS5100/davenpgh_ds5100_montecarlo\n",
    "Installing collected packages: Final-Project\n",
    "    Running setup.py develop for Final-Project\n",
    "Successfully installed Final-Project"
   ]
  },
  {
   "cell_type": "markdown",
   "metadata": {},
   "source": [
    "# Scenarios\n",
    "\n",
    "Use code blocks to perform the tasks for each scenario.\n",
    "\n",
    "Be sure the outputs are visible before submitting."
   ]
  },
  {
   "cell_type": "markdown",
   "metadata": {
    "tags": []
   },
   "source": [
    "## Scenario 1: A 2-headed Coin (9)\n",
    "\n",
    "Task 1. Create a fair coin (with faces $H$ and $T$) and one unfair coin in which one of the faces has a weight of $5$ and the others $1$.\n",
    "\n",
    "- Fair coin created (1).\n",
    "- Unfair coin created with weight as specified (1)."
   ]
  },
  {
   "cell_type": "code",
   "execution_count": 6,
   "metadata": {},
   "outputs": [],
   "source": [
    "import pandas as pd\n",
    "import numpy as np"
   ]
  },
  {
   "cell_type": "code",
   "execution_count": 7,
   "metadata": {},
   "outputs": [],
   "source": [
    "coin_fair = Package.die(np.array(['H','T']))\n",
    "coin_unfair = Package.die(np.array(['H','T']))\n",
    "coin_unfair.change_weight('H', 5)"
   ]
  },
  {
   "cell_type": "markdown",
   "metadata": {},
   "source": [
    "Task 2. Play a game of $1000$ flips with two fair dice.\n",
    "\n",
    "- Play method called correclty and without error (1)."
   ]
  },
  {
   "cell_type": "code",
   "execution_count": 8,
   "metadata": {},
   "outputs": [],
   "source": [
    "die_fair = Package.die(np.array([1,2,3,4,5,6]))"
   ]
  },
  {
   "cell_type": "code",
   "execution_count": 9,
   "metadata": {},
   "outputs": [],
   "source": [
    "game1 = Package.game([die_fair,die_fair])\n",
    "game1.play(1000)"
   ]
  },
  {
   "cell_type": "markdown",
   "metadata": {},
   "source": [
    "Task 3. Play another game (using a new Game object) of $1000$ flips, this time using two unfair dice and one fair die. For the second unfair die, you can use the same die object twice in the list of dice you pass to the Game object.\n",
    "\n",
    "- New game object created (1).\n",
    "- Play method called correclty and without error (1)."
   ]
  },
  {
   "cell_type": "code",
   "execution_count": 11,
   "metadata": {},
   "outputs": [],
   "source": [
    "die_unfair = Package.die(np.array([1,2,3,4,5,6]))\n",
    "die_unfair.change_weight([1],10)"
   ]
  },
  {
   "cell_type": "code",
   "execution_count": 12,
   "metadata": {},
   "outputs": [],
   "source": [
    "game2 = Package.game([die_unfair, die_unfair, die_fair])\n",
    "game2.play(1000)"
   ]
  },
  {
   "cell_type": "markdown",
   "metadata": {},
   "source": [
    "Task 4. For each game, use an Analyzer object to determine the raw frequency of jackpots — i.e. getting either all $H$s or all $T$s.\n",
    "\n",
    "- Analyzer objecs instantiated for both games (1).\n",
    "- Raw frequencies reported for both (1)."
   ]
  },
  {
   "cell_type": "code",
   "execution_count": 13,
   "metadata": {},
   "outputs": [],
   "source": [
    "analyzer1 = Package.analyzer(game1)\n",
    "analyzer2 = Package.analyzer(game2)"
   ]
  },
  {
   "cell_type": "code",
   "execution_count": 14,
   "metadata": {},
   "outputs": [
    {
     "data": {
      "text/plain": [
       "175"
      ]
     },
     "execution_count": 14,
     "metadata": {},
     "output_type": "execute_result"
    }
   ],
   "source": [
    "analyzer1.jackpot()"
   ]
  },
  {
   "cell_type": "code",
   "execution_count": 15,
   "metadata": {},
   "outputs": [
    {
     "data": {
      "text/plain": [
       "77"
      ]
     },
     "execution_count": 15,
     "metadata": {},
     "output_type": "execute_result"
    }
   ],
   "source": [
    "analyzer2.jackpot()"
   ]
  },
  {
   "cell_type": "markdown",
   "metadata": {},
   "source": [
    "Task 5. For each analyzer, compute relative frequency as the number of jackpots over the total number of rolls.\n",
    "\n",
    "- Both relative frequencies computed (1)."
   ]
  },
  {
   "cell_type": "code",
   "execution_count": 16,
   "metadata": {},
   "outputs": [
    {
     "data": {
      "text/plain": [
       "0.175"
      ]
     },
     "execution_count": 16,
     "metadata": {},
     "output_type": "execute_result"
    }
   ],
   "source": [
    "analyzer1.jackpot()/1000"
   ]
  },
  {
   "cell_type": "code",
   "execution_count": 17,
   "metadata": {},
   "outputs": [
    {
     "data": {
      "text/plain": [
       "0.077"
      ]
     },
     "execution_count": 17,
     "metadata": {},
     "output_type": "execute_result"
    }
   ],
   "source": [
    "analyzer2.jackpot()/1000"
   ]
  },
  {
   "cell_type": "code",
   "execution_count": 18,
   "metadata": {},
   "outputs": [],
   "source": [
    "freq = pd.DataFrame({'game': ['game 1', 'game 2'], 'results': [analyzer1.jackpot()/1000, analyzer2.jackpot()/1000]})"
   ]
  },
  {
   "cell_type": "markdown",
   "metadata": {},
   "source": [
    "Task 6. Show your results, comparing the two relative frequencies, in a simple bar chart.\n",
    "\n",
    "- Bar chart plotted and correct (1)."
   ]
  },
  {
   "cell_type": "code",
   "execution_count": 19,
   "metadata": {},
   "outputs": [
    {
     "data": {
      "text/html": [
       "<div>\n",
       "<style scoped>\n",
       "    .dataframe tbody tr th:only-of-type {\n",
       "        vertical-align: middle;\n",
       "    }\n",
       "\n",
       "    .dataframe tbody tr th {\n",
       "        vertical-align: top;\n",
       "    }\n",
       "\n",
       "    .dataframe thead th {\n",
       "        text-align: right;\n",
       "    }\n",
       "</style>\n",
       "<table border=\"1\" class=\"dataframe\">\n",
       "  <thead>\n",
       "    <tr style=\"text-align: right;\">\n",
       "      <th></th>\n",
       "      <th>game</th>\n",
       "      <th>results</th>\n",
       "    </tr>\n",
       "  </thead>\n",
       "  <tbody>\n",
       "    <tr>\n",
       "      <th>0</th>\n",
       "      <td>game 1</td>\n",
       "      <td>0.175</td>\n",
       "    </tr>\n",
       "    <tr>\n",
       "      <th>1</th>\n",
       "      <td>game 2</td>\n",
       "      <td>0.077</td>\n",
       "    </tr>\n",
       "  </tbody>\n",
       "</table>\n",
       "</div>"
      ],
      "text/plain": [
       "     game  results\n",
       "0  game 1    0.175\n",
       "1  game 2    0.077"
      ]
     },
     "execution_count": 19,
     "metadata": {},
     "output_type": "execute_result"
    }
   ],
   "source": [
    "freq"
   ]
  },
  {
   "cell_type": "code",
   "execution_count": 20,
   "metadata": {},
   "outputs": [],
   "source": [
    "import seaborn as sns"
   ]
  },
  {
   "cell_type": "code",
   "execution_count": 21,
   "metadata": {},
   "outputs": [
    {
     "data": {
      "text/plain": [
       "<AxesSubplot:xlabel='game', ylabel='results'>"
      ]
     },
     "execution_count": 21,
     "metadata": {},
     "output_type": "execute_result"
    },
    {
     "data": {
      "image/png": "[encoded data removed]",
      "text/plain": [
       "<Figure size 432x288 with 1 Axes>"
      ]
     },
     "metadata": {
      "needs_background": "light"
     },
     "output_type": "display_data"
    }
   ],
   "source": [
    "sns.barplot(data=freq, x='game', y='results')"
   ]
  },
  {
   "cell_type": "markdown",
   "metadata": {},
   "source": [
    "## Scenario 2: A 6-sided Die (9)\n",
    "\n",
    "Task 1. Create three dice, each with six sides having the faces 1 through 6.\n",
    "\n",
    "- Three die objects created (1)."
   ]
  },
  {
   "cell_type": "code",
   "execution_count": 22,
   "metadata": {},
   "outputs": [],
   "source": [
    "die_1 = Package.die(np.array([1,2,3,4,5,6]))\n",
    "die_2 = Package.die(np.array([1,2,3,4,5,6]))\n",
    "die_3 = Package.die(np.array([1,2,3,4,5,6]))"
   ]
  },
  {
   "cell_type": "markdown",
   "metadata": {},
   "source": [
    "Task 2. Convert one of the dice to an unfair one by weighting the face $6$ five times more than the other weights (i.e. it has weight of 5 and the others a weight of 1 each).\n",
    "\n",
    "- Unfair die created with proper call to weight change method (1)."
   ]
  },
  {
   "cell_type": "code",
   "execution_count": 23,
   "metadata": {},
   "outputs": [],
   "source": [
    "die_1.change_weight([6],5)"
   ]
  },
  {
   "cell_type": "markdown",
   "metadata": {},
   "source": [
    "Task 3. Convert another of the dice to be unfair by weighting the face $1$ five times more than the others.\n",
    "\n",
    "- Unfair die created with proper call to weight change method (1)."
   ]
  },
  {
   "cell_type": "code",
   "execution_count": 24,
   "metadata": {},
   "outputs": [],
   "source": [
    "die_2.change_weight([1],5)"
   ]
  },
  {
   "cell_type": "markdown",
   "metadata": {},
   "source": [
    "Task 4. Play a game of $10000$ rolls with $5$ fair dice.\n",
    "\n",
    "- Game class properly instantiated (1). \n",
    "- Play method called properly (1)."
   ]
  },
  {
   "cell_type": "code",
   "execution_count": 25,
   "metadata": {},
   "outputs": [],
   "source": [
    "game1 = Package.game([die_fair,die_fair,die_fair,die_fair,die_fair])\n",
    "game1.play(10000)"
   ]
  },
  {
   "cell_type": "markdown",
   "metadata": {},
   "source": [
    "Task 5. Play another game of $10000$ rolls, this time with $2$ unfair dice, one as defined in steps #2 and #3 respectively, and $3$ fair dice.\n",
    "\n",
    "- Game class properly instantiated (1). \n",
    "- Play method called properly (1)."
   ]
  },
  {
   "cell_type": "code",
   "execution_count": 26,
   "metadata": {},
   "outputs": [],
   "source": [
    "game2 = Package.game([die_1, die_2, die_fair, die_fair, die_fair])\n",
    "game2.play(10000)"
   ]
  },
  {
   "cell_type": "markdown",
   "metadata": {},
   "source": [
    "Task 6. For each game, use an Analyzer object to determine the relative frequency of jackpots and show your results, comparing the two relative frequencies, in a simple bar chart.\n",
    "\n",
    "- Jackpot methods called (1).\n",
    "- Graph produced (1)."
   ]
  },
  {
   "cell_type": "code",
   "execution_count": 27,
   "metadata": {},
   "outputs": [],
   "source": [
    "analyzer1 = Package.analyzer(game1)\n",
    "analyzer2 = Package.analyzer(game2)"
   ]
  },
  {
   "cell_type": "code",
   "execution_count": 28,
   "metadata": {},
   "outputs": [],
   "source": [
    "freq = pd.DataFrame({'game': ['game 1', 'game 2'], 'results': [analyzer1.jackpot()/10000, analyzer2.jackpot()/10000]})"
   ]
  },
  {
   "cell_type": "code",
   "execution_count": 29,
   "metadata": {},
   "outputs": [
    {
     "data": {
      "text/html": [
       "<div>\n",
       "<style scoped>\n",
       "    .dataframe tbody tr th:only-of-type {\n",
       "        vertical-align: middle;\n",
       "    }\n",
       "\n",
       "    .dataframe tbody tr th {\n",
       "        vertical-align: top;\n",
       "    }\n",
       "\n",
       "    .dataframe thead th {\n",
       "        text-align: right;\n",
       "    }\n",
       "</style>\n",
       "<table border=\"1\" class=\"dataframe\">\n",
       "  <thead>\n",
       "    <tr style=\"text-align: right;\">\n",
       "      <th></th>\n",
       "      <th>game</th>\n",
       "      <th>results</th>\n",
       "    </tr>\n",
       "  </thead>\n",
       "  <tbody>\n",
       "    <tr>\n",
       "      <th>0</th>\n",
       "      <td>game 1</td>\n",
       "      <td>0.0006</td>\n",
       "    </tr>\n",
       "    <tr>\n",
       "      <th>1</th>\n",
       "      <td>game 2</td>\n",
       "      <td>0.0007</td>\n",
       "    </tr>\n",
       "  </tbody>\n",
       "</table>\n",
       "</div>"
      ],
      "text/plain": [
       "     game  results\n",
       "0  game 1   0.0006\n",
       "1  game 2   0.0007"
      ]
     },
     "execution_count": 29,
     "metadata": {},
     "output_type": "execute_result"
    }
   ],
   "source": [
    "freq"
   ]
  },
  {
   "cell_type": "code",
   "execution_count": 30,
   "metadata": {},
   "outputs": [
    {
     "data": {
      "text/plain": [
       "<AxesSubplot:xlabel='game', ylabel='results'>"
      ]
     },
     "execution_count": 30,
     "metadata": {},
     "output_type": "execute_result"
    },
    {
     "data": {
      "image/png": "[encoded data removed]",
      "text/plain": [
       "<Figure size 432x288 with 1 Axes>"
      ]
     },
     "metadata": {
      "needs_background": "light"
     },
     "output_type": "display_data"
    }
   ],
   "source": [
    "sns.barplot(data=freq, x='game', y='results')"
   ]
  },
  {
   "cell_type": "markdown",
   "metadata": {},
   "source": [
    "## Scenario 3: Letters of the Alphabet (7)\n",
    "\n",
    "Task 1. Create a \"die\" of letters from $A$ to $Z$ with weights based on their frequency of usage as found in the data file `english_letters.txt`. Use the frequencies (i.e. raw counts) as weights.\n",
    "\n",
    "- Die correctly instantiated with source file data (1).\n",
    "- Weights properly applied using weight setting method (1)."
   ]
  },
  {
   "cell_type": "code",
   "execution_count": 31,
   "metadata": {},
   "outputs": [],
   "source": [
    "import pandas as pd\n",
    "import numpy as np"
   ]
  },
  {
   "cell_type": "code",
   "execution_count": 32,
   "metadata": {},
   "outputs": [],
   "source": [
    "english_letters = pd.read_csv('english_letters.txt', sep=' ', header=None)"
   ]
  },
  {
   "cell_type": "code",
   "execution_count": null,
   "metadata": {},
   "outputs": [],
   "source": [
    "english_letters"
   ]
  },
  {
   "cell_type": "code",
   "execution_count": 33,
   "metadata": {},
   "outputs": [],
   "source": [
    "letters = english_letters[0].to_list()"
   ]
  },
  {
   "cell_type": "code",
   "execution_count": 34,
   "metadata": {},
   "outputs": [],
   "source": [
    "weights = english_letters[1].to_list()"
   ]
  },
  {
   "cell_type": "code",
   "execution_count": 35,
   "metadata": {},
   "outputs": [],
   "source": [
    "die_letters = Package.die(np.array(['A', 'B', 'C', 'D', 'E', 'F', 'G', 'H', 'I', 'J', 'K', 'L', 'M', 'N', 'O', 'P', 'Q', 'R', 'S', 'T', 'U', 'V', 'W', 'X', 'Y', 'Z']))"
   ]
  },
  {
   "cell_type": "code",
   "execution_count": 36,
   "metadata": {},
   "outputs": [],
   "source": [
    "for face, weight in zip(letters, weights):\n",
    "    die_letters.change_weight(face, weight)"
   ]
  },
  {
   "cell_type": "code",
   "execution_count": 37,
   "metadata": {},
   "outputs": [
    {
     "data": {
      "text/html": [
       "<div>\n",
       "<style scoped>\n",
       "    .dataframe tbody tr th:only-of-type {\n",
       "        vertical-align: middle;\n",
       "    }\n",
       "\n",
       "    .dataframe tbody tr th {\n",
       "        vertical-align: top;\n",
       "    }\n",
       "\n",
       "    .dataframe thead th {\n",
       "        text-align: right;\n",
       "    }\n",
       "</style>\n",
       "<table border=\"1\" class=\"dataframe\">\n",
       "  <thead>\n",
       "    <tr style=\"text-align: right;\">\n",
       "      <th></th>\n",
       "      <th>weights</th>\n",
       "    </tr>\n",
       "    <tr>\n",
       "      <th>faces</th>\n",
       "      <th></th>\n",
       "    </tr>\n",
       "  </thead>\n",
       "  <tbody>\n",
       "    <tr>\n",
       "      <th>A</th>\n",
       "      <td>374061888.0</td>\n",
       "    </tr>\n",
       "    <tr>\n",
       "      <th>B</th>\n",
       "      <td>70195826.0</td>\n",
       "    </tr>\n",
       "    <tr>\n",
       "      <th>C</th>\n",
       "      <td>138416451.0</td>\n",
       "    </tr>\n",
       "    <tr>\n",
       "      <th>D</th>\n",
       "      <td>169330528.0</td>\n",
       "    </tr>\n",
       "    <tr>\n",
       "      <th>E</th>\n",
       "      <td>529117365.0</td>\n",
       "    </tr>\n",
       "    <tr>\n",
       "      <th>F</th>\n",
       "      <td>95422055.0</td>\n",
       "    </tr>\n",
       "    <tr>\n",
       "      <th>G</th>\n",
       "      <td>91258980.0</td>\n",
       "    </tr>\n",
       "    <tr>\n",
       "      <th>H</th>\n",
       "      <td>216768975.0</td>\n",
       "    </tr>\n",
       "    <tr>\n",
       "      <th>I</th>\n",
       "      <td>320410057.0</td>\n",
       "    </tr>\n",
       "    <tr>\n",
       "      <th>J</th>\n",
       "      <td>9613410.0</td>\n",
       "    </tr>\n",
       "    <tr>\n",
       "      <th>K</th>\n",
       "      <td>35373464.0</td>\n",
       "    </tr>\n",
       "    <tr>\n",
       "      <th>L</th>\n",
       "      <td>183996130.0</td>\n",
       "    </tr>\n",
       "    <tr>\n",
       "      <th>M</th>\n",
       "      <td>110504544.0</td>\n",
       "    </tr>\n",
       "    <tr>\n",
       "      <th>N</th>\n",
       "      <td>313720540.0</td>\n",
       "    </tr>\n",
       "    <tr>\n",
       "      <th>O</th>\n",
       "      <td>326627740.0</td>\n",
       "    </tr>\n",
       "    <tr>\n",
       "      <th>P</th>\n",
       "      <td>90376747.0</td>\n",
       "    </tr>\n",
       "    <tr>\n",
       "      <th>Q</th>\n",
       "      <td>4550166.0</td>\n",
       "    </tr>\n",
       "    <tr>\n",
       "      <th>R</th>\n",
       "      <td>277000841.0</td>\n",
       "    </tr>\n",
       "    <tr>\n",
       "      <th>S</th>\n",
       "      <td>294300210.0</td>\n",
       "    </tr>\n",
       "    <tr>\n",
       "      <th>T</th>\n",
       "      <td>390965105.0</td>\n",
       "    </tr>\n",
       "    <tr>\n",
       "      <th>U</th>\n",
       "      <td>117295780.0</td>\n",
       "    </tr>\n",
       "    <tr>\n",
       "      <th>V</th>\n",
       "      <td>46337161.0</td>\n",
       "    </tr>\n",
       "    <tr>\n",
       "      <th>W</th>\n",
       "      <td>79843664.0</td>\n",
       "    </tr>\n",
       "    <tr>\n",
       "      <th>X</th>\n",
       "      <td>8369915.0</td>\n",
       "    </tr>\n",
       "    <tr>\n",
       "      <th>Y</th>\n",
       "      <td>75294515.0</td>\n",
       "    </tr>\n",
       "    <tr>\n",
       "      <th>Z</th>\n",
       "      <td>4975847.0</td>\n",
       "    </tr>\n",
       "  </tbody>\n",
       "</table>\n",
       "</div>"
      ],
      "text/plain": [
       "           weights\n",
       "faces             \n",
       "A      374061888.0\n",
       "B       70195826.0\n",
       "C      138416451.0\n",
       "D      169330528.0\n",
       "E      529117365.0\n",
       "F       95422055.0\n",
       "G       91258980.0\n",
       "H      216768975.0\n",
       "I      320410057.0\n",
       "J        9613410.0\n",
       "K       35373464.0\n",
       "L      183996130.0\n",
       "M      110504544.0\n",
       "N      313720540.0\n",
       "O      326627740.0\n",
       "P       90376747.0\n",
       "Q        4550166.0\n",
       "R      277000841.0\n",
       "S      294300210.0\n",
       "T      390965105.0\n",
       "U      117295780.0\n",
       "V       46337161.0\n",
       "W       79843664.0\n",
       "X        8369915.0\n",
       "Y       75294515.0\n",
       "Z        4975847.0"
      ]
     },
     "execution_count": 37,
     "metadata": {},
     "output_type": "execute_result"
    }
   ],
   "source": [
    "die_letters.current_state()"
   ]
  },
  {
   "cell_type": "markdown",
   "metadata": {},
   "source": [
    "Task 2. Play a game involving $4$ of these dice with $1000$ rolls.\n",
    "\n",
    "- Game play method properly called (1)."
   ]
  },
  {
   "cell_type": "code",
   "execution_count": 39,
   "metadata": {},
   "outputs": [],
   "source": [
    "game_letters = Package.game([die_letters,die_letters,die_letters,die_letters])"
   ]
  },
  {
   "cell_type": "code",
   "execution_count": 72,
   "metadata": {},
   "outputs": [
    {
     "data": {
      "text/html": [
       "<div>\n",
       "<style scoped>\n",
       "    .dataframe tbody tr th:only-of-type {\n",
       "        vertical-align: middle;\n",
       "    }\n",
       "\n",
       "    .dataframe tbody tr th {\n",
       "        vertical-align: top;\n",
       "    }\n",
       "\n",
       "    .dataframe thead th {\n",
       "        text-align: right;\n",
       "    }\n",
       "</style>\n",
       "<table border=\"1\" class=\"dataframe\">\n",
       "  <thead>\n",
       "    <tr style=\"text-align: right;\">\n",
       "      <th></th>\n",
       "      <th>(Face Rolled, 0)</th>\n",
       "      <th>(Face Rolled, 1)</th>\n",
       "      <th>(Face Rolled, 2)</th>\n",
       "      <th>(Face Rolled, 3)</th>\n",
       "      <th>0</th>\n",
       "      <th>word</th>\n",
       "    </tr>\n",
       "  </thead>\n",
       "  <tbody>\n",
       "    <tr>\n",
       "      <th>0</th>\n",
       "      <td>I</td>\n",
       "      <td>D</td>\n",
       "      <td>S</td>\n",
       "      <td>I</td>\n",
       "      <td>2</td>\n",
       "      <td>IDSI</td>\n",
       "    </tr>\n",
       "    <tr>\n",
       "      <th>1</th>\n",
       "      <td>S</td>\n",
       "      <td>I</td>\n",
       "      <td>I</td>\n",
       "      <td>O</td>\n",
       "      <td>2</td>\n",
       "      <td>SIIO</td>\n",
       "    </tr>\n",
       "    <tr>\n",
       "      <th>2</th>\n",
       "      <td>O</td>\n",
       "      <td>R</td>\n",
       "      <td>S</td>\n",
       "      <td>T</td>\n",
       "      <td>2</td>\n",
       "      <td>ORST</td>\n",
       "    </tr>\n",
       "    <tr>\n",
       "      <th>3</th>\n",
       "      <td>N</td>\n",
       "      <td>A</td>\n",
       "      <td>O</td>\n",
       "      <td>E</td>\n",
       "      <td>2</td>\n",
       "      <td>NAOE</td>\n",
       "    </tr>\n",
       "    <tr>\n",
       "      <th>4</th>\n",
       "      <td>N</td>\n",
       "      <td>N</td>\n",
       "      <td>A</td>\n",
       "      <td>O</td>\n",
       "      <td>2</td>\n",
       "      <td>NNAO</td>\n",
       "    </tr>\n",
       "    <tr>\n",
       "      <th>...</th>\n",
       "      <td>...</td>\n",
       "      <td>...</td>\n",
       "      <td>...</td>\n",
       "      <td>...</td>\n",
       "      <td>...</td>\n",
       "      <td>...</td>\n",
       "    </tr>\n",
       "    <tr>\n",
       "      <th>987</th>\n",
       "      <td>O</td>\n",
       "      <td>N</td>\n",
       "      <td>A</td>\n",
       "      <td>S</td>\n",
       "      <td>1</td>\n",
       "      <td>ONAS</td>\n",
       "    </tr>\n",
       "    <tr>\n",
       "      <th>988</th>\n",
       "      <td>O</td>\n",
       "      <td>M</td>\n",
       "      <td>T</td>\n",
       "      <td>M</td>\n",
       "      <td>1</td>\n",
       "      <td>OMTM</td>\n",
       "    </tr>\n",
       "    <tr>\n",
       "      <th>989</th>\n",
       "      <td>O</td>\n",
       "      <td>M</td>\n",
       "      <td>H</td>\n",
       "      <td>A</td>\n",
       "      <td>1</td>\n",
       "      <td>OMHA</td>\n",
       "    </tr>\n",
       "    <tr>\n",
       "      <th>990</th>\n",
       "      <td>O</td>\n",
       "      <td>I</td>\n",
       "      <td>R</td>\n",
       "      <td>V</td>\n",
       "      <td>1</td>\n",
       "      <td>OIRV</td>\n",
       "    </tr>\n",
       "    <tr>\n",
       "      <th>991</th>\n",
       "      <td>A</td>\n",
       "      <td>A</td>\n",
       "      <td>A</td>\n",
       "      <td>C</td>\n",
       "      <td>1</td>\n",
       "      <td>AAAC</td>\n",
       "    </tr>\n",
       "  </tbody>\n",
       "</table>\n",
       "<p>992 rows × 6 columns</p>\n",
       "</div>"
      ],
      "text/plain": [
       "    (Face Rolled, 0) (Face Rolled, 1) (Face Rolled, 2) (Face Rolled, 3)  0  \\\n",
       "0                  I                D                S                I  2   \n",
       "1                  S                I                I                O  2   \n",
       "2                  O                R                S                T  2   \n",
       "3                  N                A                O                E  2   \n",
       "4                  N                N                A                O  2   \n",
       "..               ...              ...              ...              ... ..   \n",
       "987                O                N                A                S  1   \n",
       "988                O                M                T                M  1   \n",
       "989                O                M                H                A  1   \n",
       "990                O                I                R                V  1   \n",
       "991                A                A                A                C  1   \n",
       "\n",
       "     word  \n",
       "0    IDSI  \n",
       "1    SIIO  \n",
       "2    ORST  \n",
       "3    NAOE  \n",
       "4    NNAO  \n",
       "..    ...  \n",
       "987  ONAS  \n",
       "988  OMTM  \n",
       "989  OMHA  \n",
       "990  OIRV  \n",
       "991  AAAC  \n",
       "\n",
       "[992 rows x 6 columns]"
      ]
     },
     "execution_count": 72,
     "metadata": {},
     "output_type": "execute_result"
    }
   ],
   "source": [
    "game_letters.play(1000)\n",
    "analyzer_letters = Package.analyzer(game_letters)\n",
    "analyzer_letters = analyzer_letters.perm_count().reset_index()\n",
    "analyzer_letters['word'] = analyzer_letters[('Face Rolled', 0)] + analyzer_letters[('Face Rolled', 1)] + analyzer_letters[('Face Rolled', 2)] + analyzer_letters[('Face Rolled', 3)]"
   ]
  },
  {
   "cell_type": "markdown",
   "metadata": {},
   "source": [
    "Task 3. Determine how many permutations in your results are actual English words, based on the vocabulary found in `scrabble_words.txt`.\n",
    "\n",
    "- Use permutation method (1).\n",
    "- Get count as difference between permutations and vocabulary (1)."
   ]
  },
  {
   "cell_type": "code",
   "execution_count": 89,
   "metadata": {},
   "outputs": [
    {
     "data": {
      "text/plain": [
       "279494"
      ]
     },
     "execution_count": 89,
     "metadata": {},
     "output_type": "execute_result"
    }
   ],
   "source": [
    "scrabble = pd.read_csv('scrabble_words.txt', sep=' ', header=None)"
   ]
  },
  {
   "cell_type": "code",
   "execution_count": 94,
   "metadata": {},
   "outputs": [
    {
     "name": "stderr",
     "output_type": "stream",
     "text": [
      "/apps/software/standard/compiler/gcc/9.2.0/jupyter_conda/2020.11-py3.8/lib/python3.8/site-packages/pandas/core/indexes/base.py:2462: RuntimeWarning: '<' not supported between instances of 'int' and 'tuple', sort order is undefined for incomparable objects\n",
      "  return Index.union(this, other, sort=sort).astype(object, copy=False)\n"
     ]
    }
   ],
   "source": [
    "#test merge\n",
    "df_merge = pd.merge(analyzer_letters, scrabble,\n",
    "                      left_on = ['word'],\n",
    "                      right_on = [0],\n",
    "                      how='outer',\n",
    "                      validate='one_to_many',\n",
    "                      indicator='matched')"
   ]
  },
  {
   "cell_type": "code",
   "execution_count": 95,
   "metadata": {},
   "outputs": [
    {
     "data": {
      "text/plain": [
       "right_only    279449\n",
       "left_only        945\n",
       "both              47\n",
       "Name: matched, dtype: int64"
      ]
     },
     "execution_count": 95,
     "metadata": {},
     "output_type": "execute_result"
    }
   ],
   "source": [
    "df_merge['matched'].value_counts()"
   ]
  },
  {
   "cell_type": "code",
   "execution_count": 96,
   "metadata": {},
   "outputs": [],
   "source": [
    "#real merge\n",
    "df_merge = pd.merge(analyzer_letters, scrabble,\n",
    "                      left_on = ['word'],\n",
    "                      right_on = [0],\n",
    "                      how='inner')"
   ]
  },
  {
   "cell_type": "code",
   "execution_count": 99,
   "metadata": {},
   "outputs": [
    {
     "data": {
      "text/plain": [
       "47"
      ]
     },
     "execution_count": 99,
     "metadata": {},
     "output_type": "execute_result"
    }
   ],
   "source": [
    "df_merge.index.size\n",
    "#This produces 47 actual words."
   ]
  },
  {
   "cell_type": "markdown",
   "metadata": {},
   "source": [
    "Task 4. Repeat steps #2 and #3, this time with $5$ dice. How many actual words does this produce? Which produces more?\n",
    "\n",
    "- Successfully repreats steps (1).\n",
    "- Identifies parameter with most found words (1)."
   ]
  },
  {
   "cell_type": "code",
   "execution_count": 100,
   "metadata": {},
   "outputs": [],
   "source": [
    "game_letters = Package.game([die_letters,die_letters,die_letters,die_letters,die_letters])"
   ]
  },
  {
   "cell_type": "code",
   "execution_count": 102,
   "metadata": {},
   "outputs": [],
   "source": [
    "game_letters.play(1000)\n",
    "analyzer_letters = Package.analyzer(game_letters)\n",
    "analyzer_letters = analyzer_letters.perm_count().reset_index()\n",
    "analyzer_letters['word'] = analyzer_letters[('Face Rolled', 0)] + analyzer_letters[('Face Rolled', 1)] + analyzer_letters[('Face Rolled', 2)] + analyzer_letters[('Face Rolled', 3)]"
   ]
  },
  {
   "cell_type": "code",
   "execution_count": 103,
   "metadata": {},
   "outputs": [],
   "source": [
    "#real merge\n",
    "df_merge = pd.merge(analyzer_letters, scrabble,\n",
    "                      left_on = ['word'],\n",
    "                      right_on = [0],\n",
    "                      how='inner')"
   ]
  },
  {
   "cell_type": "code",
   "execution_count": 104,
   "metadata": {},
   "outputs": [
    {
     "data": {
      "text/plain": [
       "44"
      ]
     },
     "execution_count": 104,
     "metadata": {},
     "output_type": "execute_result"
    }
   ],
   "source": [
    "df_merge.index.size\n",
    "#This produces 44 actual words, whereas 4 dice produces 47 words."
   ]
  },
  {
   "cell_type": "markdown",
   "metadata": {},
   "source": [
    "# Submission"
   ]
  },
  {
   "cell_type": "markdown",
   "metadata": {},
   "source": [
    "When finished completing the above tasks, save this file to your local repo (and within your project), and them push it to your GitHub repo.\n",
    "\n",
    "Then convert this file to a PDF and submit it to GradeScope according to the assignment instructions in Canvas."
   ]
  }
 ],
 "metadata": {
  "kernelspec": {
   "display_name": "Python 3",
   "language": "python",
   "name": "python3"
  },
  "language_info": {
   "codemirror_mode": {
    "name": "ipython",
    "version": 3
   },
   "file_extension": ".py",
   "mimetype": "text/x-python",
   "name": "python",
   "nbconvert_exporter": "python",
   "pygments_lexer": "ipython3",
   "version": "3.8.8"
  },
  "toc-autonumbering": true,
  "widgets": {
   "application/vnd.jupyter.widget-state+json": {
    "state": {},
    "version_major": 2,
    "version_minor": 0
   }
  }
 },
 "nbformat": 4,
 "nbformat_minor": 5
}
